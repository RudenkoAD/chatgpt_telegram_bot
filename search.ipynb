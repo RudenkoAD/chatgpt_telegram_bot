{
 "cells": [
  {
   "cell_type": "code",
   "execution_count": 327,
   "metadata": {},
   "outputs": [],
   "source": [
    "import yaml\n",
    "from pathlib import Path\n",
    "import tantivy"
   ]
  },
  {
   "cell_type": "code",
   "execution_count": 328,
   "metadata": {},
   "outputs": [],
   "source": [
    "config_dir = Path().parent.parent.resolve()\n",
    "with open(config_dir / \"config\" / \"chat_modes.yml\", 'r') as f:\n",
    "    chat_modes = yaml.safe_load(f)"
   ]
  },
  {
   "cell_type": "code",
   "execution_count": 329,
   "metadata": {},
   "outputs": [],
   "source": [
    "# Declaring our schema\n",
    "schema_builder = tantivy.SchemaBuilder()\n",
    "schema_builder.add_text_field(\"name\", stored=True)\n",
    "schema_builder.add_text_field(\"prompt_start\", stored=True)\n",
    "schema = schema_builder.build()\n",
    "\n",
    "# Creating our index (in memory)\n",
    "index = tantivy.Index(schema)\n",
    "\n",
    "writer = index.writer()\n",
    "for name in chat_modes:\n",
    "    writer.add_document(tantivy.Document(\n",
    "        name=[name],\n",
    "        prompt_start=[chat_modes[name][\"prompt_start\"]] if chat_modes[name][\"prompt_start\"] is not None else \"\",\n",
    "    ))\n",
    "# ... and committing\n",
    "writer.commit()\n",
    "\n",
    "# Reload the index to ensure it points to the last commit.\n",
    "index.reload()\n",
    "searcher = index.searcher()\n",
    "\n",
    "def search_message(query_text: str) -> str:\n",
    "    global index, searcher\n",
    "\n",
    "    query = index.parse_query(query_text, [\"name\", \"prompt_start\"])\n",
    "    search_rezult = searcher.search(query, 3)\n",
    "\n",
    "    if search_rezult.count == 0:\n",
    "        return \"We didn't find anything\"\n",
    "    \n",
    "    (best_score, best_doc_address) = search_rezult.hits[0]\n",
    "    rezults = f\"1) {searcher.doc(best_doc_address)[\"name\"][0]}\"\n",
    "    if search_rezult.count > 1:\n",
    "        (best_score, best_doc_address) = search_rezult.hits[1]\n",
    "        rezults += f\"\\n2) {searcher.doc(best_doc_address)[\"name\"][0]}\"\n",
    "    if search_rezult.count > 2:\n",
    "        (best_score, best_doc_address) = search_rezult.hits[2]\n",
    "        rezults += f\"\\n3) {searcher.doc(best_doc_address)[\"name\"][0]}\"\n",
    "\n",
    "\n",
    "    return rezults"
   ]
  },
  {
   "cell_type": "code",
   "execution_count": 330,
   "metadata": {},
   "outputs": [
    {
     "name": "stdout",
     "output_type": "stream",
     "text": [
      "1) motivator\n",
      "2) text_improver\n",
      "3) travel_guide\n"
     ]
    }
   ],
   "source": [
    "print(search_message(\"goal\"))"
   ]
  },
  {
   "cell_type": "code",
   "execution_count": 331,
   "metadata": {},
   "outputs": [
    {
     "name": "stdout",
     "output_type": "stream",
     "text": [
      "We didn't find anything\n"
     ]
    }
   ],
   "source": [
    "print(search_message(\"killer\"))"
   ]
  },
  {
   "cell_type": "code",
   "execution_count": 332,
   "metadata": {},
   "outputs": [
    {
     "name": "stdout",
     "output_type": "stream",
     "text": [
      "1) psychologist\n"
     ]
    }
   ],
   "source": [
    "print(search_message(\"Psychologist\"))"
   ]
  }
 ],
 "metadata": {
  "kernelspec": {
   "display_name": "Python 3",
   "language": "python",
   "name": "python3"
  },
  "language_info": {
   "codemirror_mode": {
    "name": "ipython",
    "version": 3
   },
   "file_extension": ".py",
   "mimetype": "text/x-python",
   "name": "python",
   "nbconvert_exporter": "python",
   "pygments_lexer": "ipython3",
   "version": "3.12.0"
  }
 },
 "nbformat": 4,
 "nbformat_minor": 2
}
